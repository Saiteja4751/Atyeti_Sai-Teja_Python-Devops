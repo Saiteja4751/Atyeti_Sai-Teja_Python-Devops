{
 "cells": [
  {
   "cell_type": "code",
   "execution_count": 1,
   "id": "5b672f3c-19a2-444e-b757-f12936689df3",
   "metadata": {},
   "outputs": [
    {
     "name": "stdout",
     "output_type": "stream",
     "text": [
      "Requirement already satisfied: mysql-connector-python in c:\\users\\saitejareddybattu\\anaconda3\\lib\\site-packages (9.2.0)\n",
      "Note: you may need to restart the kernel to use updated packages.\n"
     ]
    }
   ],
   "source": [
    "pip install mysql-connector-python\n",
    "my"
   ]
  },
  {
   "cell_type": "code",
   "execution_count": null,
   "id": "94727979-efd4-4ebb-bf02-5460493ea4d8",
   "metadata": {},
   "outputs": [],
   "source": [
    "import mysql.connector\n",
    "from mysql.connector import Error\n",
    "\n",
    "try:\n",
    "    print(\"🔄 Attempting to connect to MySQL...\")\n",
    "\n",
    "    connection = mysql.connector.connect(\n",
    "        host='localhost',        # or IP address of DB\n",
    "        user='root',             # your username\n",
    "        password='root',         # your password\n",
    "        database='flaskdb'       # your DB name\n",
    "    )\n",
    "\n",
    "    if connection.is_connected():\n",
    "        print(\"✅ Successfully connected to MySQL\")\n",
    "\n",
    "except Error as e:\n",
    "    print(\"❌ Error while connecting to MySQL:\", e)\n"
   ]
  },
  {
   "cell_type": "code",
   "execution_count": 1,
   "id": "7128e55b-9e0d-478e-adf2-db9b67542b91",
   "metadata": {},
   "outputs": [
    {
     "name": "stdout",
     "output_type": "stream",
     "text": [
      "Requirement already satisfied: mysql-connector-python in c:\\users\\saitejareddybattu\\anaconda3\\lib\\site-packages (9.2.0)\n"
     ]
    }
   ],
   "source": [
    "!pip install mysql-connector-python\n"
   ]
  },
  {
   "cell_type": "code",
   "execution_count": null,
   "id": "5e6b346d-3766-4e44-9a70-b895138463f9",
   "metadata": {},
   "outputs": [],
   "source": []
  }
 ],
 "metadata": {
  "kernelspec": {
   "display_name": "Python 3 (ipykernel)",
   "language": "python",
   "name": "python3"
  },
  "language_info": {
   "codemirror_mode": {
    "name": "ipython",
    "version": 3
   },
   "file_extension": ".py",
   "mimetype": "text/x-python",
   "name": "python",
   "nbconvert_exporter": "python",
   "pygments_lexer": "ipython3",
   "version": "3.12.4"
  }
 },
 "nbformat": 4,
 "nbformat_minor": 5
}
